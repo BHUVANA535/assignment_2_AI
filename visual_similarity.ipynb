{
 "cells": [
  {
   "cell_type": "code",
   "execution_count": 2,
   "id": "4601b8ed",
   "metadata": {},
   "outputs": [
    {
     "name": "stdout",
     "output_type": "stream",
     "text": [
      "Author similarity matrix (fraction of similar images):\n",
      "['Amit Saxena', 'Amita Jain', 'Animesh Chaturvedi', 'Ankita Jain', 'Arun Chauhan', 'Aruna Malapati', 'Aruna Tiwari', 'Barsha Mitra', 'Bhanukiran Perabathini', 'Bharghava Rajaram', 'Deepak K T', 'Devendra K Tayal', 'Dilip Singh Sisodia', 'dipanjan roy', 'Dipti Mishra', 'Dr. Ashish Jain', 'Dr. Shikha Mehta', 'Dr.Manpreet Kaur', 'Dr.Rohit Beniwal', 'Dr.Ruchi Mittal', 'esha baidya kayal', 'Geeta Rani', 'Himanee Bansal', 'Himanshu Mittal', 'J. Balasubramaniam', 'Jagdish Bansal', 'Jayasri D', 'Jian Wang', 'K.V. Sambasivarao', 'Kastuv Nag', 'Khaldoon Dhou', 'Krishna Asawa', 'Mala Saraswat', 'Manju_JaypeeTech', 'Manoranjan Mohanty', 'Minni Jain', 'Mukesh Prasad', 'Navneet Pratap Singh', 'Nikhil Tripathi', 'Nishchal K. Verma', 'Om Prakash Patel', 'OmPrakash Kaiwartya', 'Pabitra Mitra', 'Payal Khurana Batra', 'Pinaki Chakraborty', 'Prakash Chandra Sharma', 'Prof. B Subudhi', 'Rama Murthy Garimella', 'Ramakrishan Maheshwari', 'Ramalinga Swamy Cheruku', 'ruchi sharma', 'Rudresh dwivedi', 'Sambit Bakshi', 'Sanatan Sukhija', 'Shikha Gupta', 'Sowmini Devi', 'Sreedhar Madichetty', 'Srishti Sharma', 'Sulabh Tyagi', 'Sunny Rai', 'sushma hans', 'Tandra Pal', 'Tingwen Huang', 'Udit Satija', 'V. Ravi', 'Vaishali Soni', 'Venkata Dilip Kumar', 'Venkata Rajesh Kumar Tavva', 'Vidhi Khanduja', 'Yayati Gupta', 'Yew-Soon Ong']\n",
      "[[1.76888889e-02 5.05050505e-04 6.63878788e-02 ... 3.92156863e-04\n",
      "  7.92079208e-04 3.69369369e-03]\n",
      " [5.05050505e-04 1.69880624e-02 2.75482094e-04 ... 8.91265597e-04\n",
      "  1.80018002e-03 2.04750205e-04]\n",
      " [6.63878788e-02 2.75482094e-04 6.90904132e-01 ... 2.67379679e-04\n",
      "  3.60036004e-04 3.69942670e-02]\n",
      " ...\n",
      " [3.92156863e-04 8.91265597e-04 2.67379679e-04 ... 2.01845444e-02\n",
      "  1.16482236e-03 1.32485427e-04]\n",
      " [7.92079208e-04 1.80018002e-03 3.60036004e-04 ... 1.16482236e-03\n",
      "  1.69591217e-02 3.56792436e-04]\n",
      " [3.69369369e-03 2.04750205e-04 3.69942670e-02 ... 1.32485427e-04\n",
      "  3.56792436e-04 1.14032952e-02]]\n"
     ]
    }
   ],
   "source": [
    "from PIL import Image\n",
    "import imagehash\n",
    "import os\n",
    "import itertools\n",
    "import numpy as np\n",
    "\n",
    "image_folder = \"extracted_images\"\n",
    "\n",
    "# Step 1: Compute hashes for each author\n",
    "author_hashes = {}\n",
    "\n",
    "for author in os.listdir(image_folder):\n",
    "    author_path = os.path.join(image_folder, author)\n",
    "    if not os.path.isdir(author_path):\n",
    "        continue\n",
    "\n",
    "    hashes = []\n",
    "    for f in os.listdir(author_path):\n",
    "        if f.lower().endswith(('png','jpg','jpeg')):\n",
    "            img_path = os.path.join(author_path, f)\n",
    "            img = Image.open(img_path)\n",
    "            h = imagehash.phash(img)\n",
    "            hashes.append(h)\n",
    "    if hashes:\n",
    "        author_hashes[author] = hashes\n",
    "\n",
    "# Step 2: Compute similarity between authors\n",
    "def author_similarity(hashes1, hashes2, threshold=5):\n",
    "    \"\"\"\n",
    "    Compute similarity between two authors.\n",
    "    Returns fraction of similar image pairs.\n",
    "    \"\"\"\n",
    "    count = 0\n",
    "    total = len(hashes1) * len(hashes2)\n",
    "    for h1 in hashes1:\n",
    "        for h2 in hashes2:\n",
    "            if h1 - h2 <= threshold:\n",
    "                count += 1\n",
    "    return count / total if total > 0 else 0\n",
    "\n",
    "# Step 3: Build similarity matrix\n",
    "authors = list(author_hashes.keys())\n",
    "similarity_matrix = np.zeros((len(authors), len(authors)))\n",
    "\n",
    "for i, a1 in enumerate(authors):\n",
    "    for j, a2 in enumerate(authors):\n",
    "        if j >= i:  # matrix is symmetric\n",
    "            sim = author_similarity(author_hashes[a1], author_hashes[a2])\n",
    "            similarity_matrix[i, j] = sim\n",
    "            similarity_matrix[j, i] = sim\n",
    "\n",
    "# Step 4: Display results\n",
    "print(\"Author similarity matrix (fraction of similar images):\")\n",
    "print(authors)\n",
    "print(similarity_matrix)\n"
   ]
  }
 ],
 "metadata": {
  "kernelspec": {
   "display_name": "Python 3",
   "language": "python",
   "name": "python3"
  },
  "language_info": {
   "codemirror_mode": {
    "name": "ipython",
    "version": 3
   },
   "file_extension": ".py",
   "mimetype": "text/x-python",
   "name": "python",
   "nbconvert_exporter": "python",
   "pygments_lexer": "ipython3",
   "version": "3.12.10"
  }
 },
 "nbformat": 4,
 "nbformat_minor": 5
}
