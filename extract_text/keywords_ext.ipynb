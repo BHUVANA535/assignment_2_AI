{
 "cells": [
  {
   "cell_type": "code",
   "execution_count": 7,
   "id": "272b22d4",
   "metadata": {},
   "outputs": [
    {
     "name": "stderr",
     "output_type": "stream",
     "text": [
      "[nltk_data] Downloading package stopwords to C:\\Users\\BHUVANA\n",
      "[nltk_data]     VIJAYA\\AppData\\Roaming\\nltk_data...\n",
      "[nltk_data]   Package stopwords is already up-to-date!\n"
     ]
    },
    {
     "name": "stdout",
     "output_type": "stream",
     "text": [
      "✅ Keywords extraction complete. Saved to: C:\\Users\\BHUVANA VIJAYA\\OneDrive\\Documents\\assignment_2\\extracted_data\\authors_keywords.json\n"
     ]
    }
   ],
   "source": [
    "import json\n",
    "import re\n",
    "from nltk.corpus import stopwords\n",
    "from sklearn.feature_extraction.text import TfidfVectorizer\n",
    "import nltk\n",
    "import numpy as np\n",
    "\n",
    "nltk.download('stopwords')\n",
    "stop_words = set(stopwords.words('english'))\n",
    "\n",
    "# 1️⃣ Load the JSON file\n",
    "json_path = r\"C:\\Users\\BHUVANA VIJAYA\\OneDrive\\Documents\\assignment_2\\extracted_data\\author_texts_pdfminer.json\"\n",
    "with open(json_path, 'r', encoding='utf-8') as f:\n",
    "    authors_texts_pdfminer = json.load(f)\n",
    "\n",
    "# 2️⃣ Preprocessing function\n",
    "def preprocess_text(text):\n",
    "    text = text.lower()\n",
    "    text = re.sub(r'\\s+', ' ', text)\n",
    "    text = re.sub(r'[^a-z\\s]', '', text)\n",
    "    words = [word for word in text.split() if word not in stop_words]\n",
    "    return ' '.join(words)\n",
    "\n",
    "# 3️⃣ Extract top keywords from a single document\n",
    "def extract_top_keywords(doc_text, top_n=50):\n",
    "    vectorizer = TfidfVectorizer(max_features=5000)\n",
    "    tfidf_matrix = vectorizer.fit_transform([doc_text])\n",
    "    feature_names = vectorizer.get_feature_names_out()\n",
    "    sorted_nzs = np.argsort(tfidf_matrix.toarray()[0])[::-1][:top_n]\n",
    "    keywords = [feature_names[i] for i in sorted_nzs]\n",
    "    return keywords\n",
    "\n",
    "# 4️⃣ Process all authors and papers\n",
    "authors_keywords = {}\n",
    "for author, papers in authors_texts_pdfminer.items():\n",
    "    paper_keywords_list = []\n",
    "    for paper in papers:\n",
    "        clean_text = preprocess_text(paper)\n",
    "        keywords = extract_top_keywords(clean_text, top_n=50)\n",
    "        paper_keywords_list.append(keywords)\n",
    "    authors_keywords[author] = paper_keywords_list\n",
    "\n",
    "# 5️⃣ Save to JSON\n",
    "output_path = r\"C:\\Users\\BHUVANA VIJAYA\\OneDrive\\Documents\\assignment_2\\extracted_data\\authors_keywords.json\"\n",
    "with open(output_path, 'w', encoding='utf-8') as f:\n",
    "    json.dump(authors_keywords, f, indent=4)\n",
    "\n",
    "print(\"✅ Keywords extraction complete. Saved to:\", output_path)\n"
   ]
  }
 ],
 "metadata": {
  "kernelspec": {
   "display_name": "Python 3",
   "language": "python",
   "name": "python3"
  },
  "language_info": {
   "codemirror_mode": {
    "name": "ipython",
    "version": 3
   },
   "file_extension": ".py",
   "mimetype": "text/x-python",
   "name": "python",
   "nbconvert_exporter": "python",
   "pygments_lexer": "ipython3",
   "version": "3.12.10"
  }
 },
 "nbformat": 4,
 "nbformat_minor": 5
}
